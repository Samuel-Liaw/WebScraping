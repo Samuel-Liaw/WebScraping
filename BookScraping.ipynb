{
 "cells": [
  {
   "cell_type": "code",
   "execution_count": 1,
   "id": "eb78d36b-0124-4432-b5cf-79ba69a18997",
   "metadata": {},
   "outputs": [],
   "source": [
    "import requests\n",
    "import bs4\n",
    "from bs4 import BeautifulSoup\n",
    "import pandas as pd"
   ]
  },
  {
   "cell_type": "code",
   "execution_count": 2,
   "id": "be585a9d-2edb-437d-911d-baa15ed55df5",
   "metadata": {},
   "outputs": [
    {
     "data": {
      "text/html": [
       "<div>\n",
       "<style scoped>\n",
       "    .dataframe tbody tr th:only-of-type {\n",
       "        vertical-align: middle;\n",
       "    }\n",
       "\n",
       "    .dataframe tbody tr th {\n",
       "        vertical-align: top;\n",
       "    }\n",
       "\n",
       "    .dataframe thead th {\n",
       "        text-align: right;\n",
       "    }\n",
       "</style>\n",
       "<table border=\"1\" class=\"dataframe\">\n",
       "  <thead>\n",
       "    <tr style=\"text-align: right;\">\n",
       "      <th></th>\n",
       "      <th>Title</th>\n",
       "      <th>Price</th>\n",
       "      <th>Rating</th>\n",
       "      <th>Link</th>\n",
       "    </tr>\n",
       "  </thead>\n",
       "  <tbody>\n",
       "    <tr>\n",
       "      <th>0</th>\n",
       "      <td>A Light in the Attic</td>\n",
       "      <td>51.77</td>\n",
       "      <td>Three</td>\n",
       "      <td>https://books.toscrape.com/catalogue/a-light-in-the-attic_1000/index.html</td>\n",
       "    </tr>\n",
       "    <tr>\n",
       "      <th>1</th>\n",
       "      <td>Tipping the Velvet</td>\n",
       "      <td>53.74</td>\n",
       "      <td>One</td>\n",
       "      <td>https://books.toscrape.com/catalogue/tipping-the-velvet_999/index.html</td>\n",
       "    </tr>\n",
       "    <tr>\n",
       "      <th>2</th>\n",
       "      <td>Soumission</td>\n",
       "      <td>50.10</td>\n",
       "      <td>One</td>\n",
       "      <td>https://books.toscrape.com/catalogue/soumission_998/index.html</td>\n",
       "    </tr>\n",
       "    <tr>\n",
       "      <th>3</th>\n",
       "      <td>Sharp Objects</td>\n",
       "      <td>47.82</td>\n",
       "      <td>Four</td>\n",
       "      <td>https://books.toscrape.com/catalogue/sharp-objects_997/index.html</td>\n",
       "    </tr>\n",
       "    <tr>\n",
       "      <th>4</th>\n",
       "      <td>Sapiens: A Brief History of Humankind</td>\n",
       "      <td>54.23</td>\n",
       "      <td>Five</td>\n",
       "      <td>https://books.toscrape.com/catalogue/sapiens-a-brief-history-of-humankind_996/index.html</td>\n",
       "    </tr>\n",
       "    <tr>\n",
       "      <th>...</th>\n",
       "      <td>...</td>\n",
       "      <td>...</td>\n",
       "      <td>...</td>\n",
       "      <td>...</td>\n",
       "    </tr>\n",
       "    <tr>\n",
       "      <th>195</th>\n",
       "      <td>Eureka Trivia 6.0</td>\n",
       "      <td>54.59</td>\n",
       "      <td>Four</td>\n",
       "      <td>https://books.toscrape.com/catalogue/eureka-trivia-60_805/index.html</td>\n",
       "    </tr>\n",
       "    <tr>\n",
       "      <th>196</th>\n",
       "      <td>Drive: The Surprising Truth About What Motivates Us</td>\n",
       "      <td>34.95</td>\n",
       "      <td>Four</td>\n",
       "      <td>https://books.toscrape.com/catalogue/drive-the-surprising-truth-about-what-motivates-us_804/index.html</td>\n",
       "    </tr>\n",
       "    <tr>\n",
       "      <th>197</th>\n",
       "      <td>Done Rubbed Out (Reightman &amp; Bailey #1)</td>\n",
       "      <td>37.72</td>\n",
       "      <td>Five</td>\n",
       "      <td>https://books.toscrape.com/catalogue/done-rubbed-out-reightman-bailey-1_803/index.html</td>\n",
       "    </tr>\n",
       "    <tr>\n",
       "      <th>198</th>\n",
       "      <td>Doing It Over (Most Likely To #1)</td>\n",
       "      <td>35.61</td>\n",
       "      <td>Three</td>\n",
       "      <td>https://books.toscrape.com/catalogue/doing-it-over-most-likely-to-1_802/index.html</td>\n",
       "    </tr>\n",
       "    <tr>\n",
       "      <th>199</th>\n",
       "      <td>Deliciously Ella Every Day: Quick and Easy Recipes for Gluten-Free Snacks, Packed Lunches, and Simple Meals</td>\n",
       "      <td>42.16</td>\n",
       "      <td>Three</td>\n",
       "      <td>https://books.toscrape.com/catalogue/deliciously-ella-every-day-quick-and-easy-recipes-for-gluten-free-snacks-packed-lunches-and-simple-meals_801/index.html</td>\n",
       "    </tr>\n",
       "  </tbody>\n",
       "</table>\n",
       "<p>200 rows × 4 columns</p>\n",
       "</div>"
      ],
      "text/plain": [
       "                                                                                                           Title  \\\n",
       "0                                                                                           A Light in the Attic   \n",
       "1                                                                                             Tipping the Velvet   \n",
       "2                                                                                                     Soumission   \n",
       "3                                                                                                  Sharp Objects   \n",
       "4                                                                          Sapiens: A Brief History of Humankind   \n",
       "..                                                                                                           ...   \n",
       "195                                                                                            Eureka Trivia 6.0   \n",
       "196                                                          Drive: The Surprising Truth About What Motivates Us   \n",
       "197                                                                      Done Rubbed Out (Reightman & Bailey #1)   \n",
       "198                                                                            Doing It Over (Most Likely To #1)   \n",
       "199  Deliciously Ella Every Day: Quick and Easy Recipes for Gluten-Free Snacks, Packed Lunches, and Simple Meals   \n",
       "\n",
       "     Price Rating  \\\n",
       "0    51.77  Three   \n",
       "1    53.74    One   \n",
       "2    50.10    One   \n",
       "3    47.82   Four   \n",
       "4    54.23   Five   \n",
       "..     ...    ...   \n",
       "195  54.59   Four   \n",
       "196  34.95   Four   \n",
       "197  37.72   Five   \n",
       "198  35.61  Three   \n",
       "199  42.16  Three   \n",
       "\n",
       "                                                                                                                                                             Link  \n",
       "0                                                                                       https://books.toscrape.com/catalogue/a-light-in-the-attic_1000/index.html  \n",
       "1                                                                                          https://books.toscrape.com/catalogue/tipping-the-velvet_999/index.html  \n",
       "2                                                                                                  https://books.toscrape.com/catalogue/soumission_998/index.html  \n",
       "3                                                                                               https://books.toscrape.com/catalogue/sharp-objects_997/index.html  \n",
       "4                                                                        https://books.toscrape.com/catalogue/sapiens-a-brief-history-of-humankind_996/index.html  \n",
       "..                                                                                                                                                            ...  \n",
       "195                                                                                          https://books.toscrape.com/catalogue/eureka-trivia-60_805/index.html  \n",
       "196                                                        https://books.toscrape.com/catalogue/drive-the-surprising-truth-about-what-motivates-us_804/index.html  \n",
       "197                                                                        https://books.toscrape.com/catalogue/done-rubbed-out-reightman-bailey-1_803/index.html  \n",
       "198                                                                            https://books.toscrape.com/catalogue/doing-it-over-most-likely-to-1_802/index.html  \n",
       "199  https://books.toscrape.com/catalogue/deliciously-ella-every-day-quick-and-easy-recipes-for-gluten-free-snacks-packed-lunches-and-simple-meals_801/index.html  \n",
       "\n",
       "[200 rows x 4 columns]"
      ]
     },
     "execution_count": 2,
     "metadata": {},
     "output_type": "execute_result"
    }
   ],
   "source": [
    "booklist = {}\n",
    "df = pd.DataFrame(booklist, columns = ['Title', 'Price', 'Rating', 'Link'])\n",
    "pd.set_option('display.max_colwidth', None)\n",
    "\n",
    "for page in range(1,11):\n",
    "    url = f'https://books.toscrape.com/catalogue/page-{page}.html'\n",
    "    source = requests.get(url).text\n",
    "    soup = BeautifulSoup(source, 'lxml')\n",
    "    books = soup.find_all('li', class_=\"col-xs-6 col-sm-4 col-md-3 col-lg-3\")\n",
    "    for book in books:\n",
    "        title = book.find('img').attrs['alt']\n",
    "        price = float(book.find('p', class_=\"price_color\").text[2:])\n",
    "        rating = book.find('article', class_=\"product_pod\").p.attrs['class'][1]\n",
    "        linkfrag = book.find('article', class_=\"product_pod\").a.attrs['href']\n",
    "        link = f'https://books.toscrape.com/catalogue/{linkfrag}'\n",
    "        dic = {'Title': title, \n",
    "                'Price': price,\n",
    "               'Rating': rating,\n",
    "               'Link': link}\n",
    "        newRow = pd.DataFrame(dic, index=[0])\n",
    "        df = pd.concat([df, newRow], ignore_index = True)\n",
    "df"
   ]
  },
  {
   "cell_type": "code",
   "execution_count": 3,
   "id": "33b0c9c8-712f-4c39-b8a1-f3260c226ac0",
   "metadata": {},
   "outputs": [
    {
     "data": {
      "text/plain": [
       "59.64"
      ]
     },
     "execution_count": 3,
     "metadata": {},
     "output_type": "execute_result"
    }
   ],
   "source": [
    "max(df['Price'])"
   ]
  },
  {
   "cell_type": "code",
   "execution_count": 4,
   "id": "270de300-7b00-499e-ac15-90ae6882bb18",
   "metadata": {},
   "outputs": [
    {
     "name": "stdout",
     "output_type": "stream",
     "text": [
      "https://books.toscrape.com/catalogue/thomas-jefferson-and-the-tripoli-pirates-the-forgotten-war-that-changed-american-history_867/index.html\n"
     ]
    }
   ],
   "source": [
    "targetPrice = 59.64\n",
    "correspondingLink = df.loc[df['Price']==targetPrice, 'Link'].values[0]\n",
    "print(correspondingLink)"
   ]
  },
  {
   "cell_type": "code",
   "execution_count": 5,
   "id": "a12fbf5b-9d31-4fdc-bb1b-fea8d660311e",
   "metadata": {},
   "outputs": [],
   "source": [
    "outputpath = r'C:\\Users\\cl123402\\OneDrive - GSK\\Desktop\\イロイロ\\Python\\JN.csv'"
   ]
  },
  {
   "cell_type": "code",
   "execution_count": 6,
   "id": "f7b81608-1108-44d9-a3a9-17ad4dc4d0e6",
   "metadata": {},
   "outputs": [],
   "source": [
    "df.to_csv(outputpath, index = False)"
   ]
  }
 ],
 "metadata": {
  "kernelspec": {
   "display_name": "Python 3 (ipykernel)",
   "language": "python",
   "name": "python3"
  },
  "language_info": {
   "codemirror_mode": {
    "name": "ipython",
    "version": 3
   },
   "file_extension": ".py",
   "mimetype": "text/x-python",
   "name": "python",
   "nbconvert_exporter": "python",
   "pygments_lexer": "ipython3",
   "version": "3.10.11"
  }
 },
 "nbformat": 4,
 "nbformat_minor": 5
}
